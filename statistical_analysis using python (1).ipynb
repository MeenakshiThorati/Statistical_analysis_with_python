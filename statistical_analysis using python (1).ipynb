{
 "cells": [
  {
   "cell_type": "markdown",
   "id": "568e0684-a3a3-47e3-ba12-209b9a2203e7",
   "metadata": {},
   "source": [
    "### Python for Statistical Analysis"
   ]
  },
  {
   "cell_type": "markdown",
   "id": "71989f44-bcd8-45ab-8180-544ee67d1e5e",
   "metadata": {},
   "source": [
    "Install the required libraries using the following commands:"
   ]
  },
  {
   "cell_type": "code",
   "execution_count": 4,
   "id": "67016a15-f972-436a-98eb-fc1780797135",
   "metadata": {},
   "outputs": [
    {
     "name": "stdout",
     "output_type": "stream",
     "text": [
      "Requirement already satisfied: seaborn in c:\\users\\meena\\anaconda3\\lib\\site-packages (0.13.2)\n",
      "Requirement already satisfied: pandas in c:\\users\\meena\\anaconda3\\lib\\site-packages (2.2.2)\n",
      "Requirement already satisfied: numpy in c:\\users\\meena\\anaconda3\\lib\\site-packages (1.26.4)\n",
      "Requirement already satisfied: scipy in c:\\users\\meena\\anaconda3\\lib\\site-packages (1.13.1)\n",
      "Requirement already satisfied: scikit-learn in c:\\users\\meena\\anaconda3\\lib\\site-packages (1.4.2)\n",
      "Requirement already satisfied: statsmodels in c:\\users\\meena\\anaconda3\\lib\\site-packages (0.14.2)\n",
      "Requirement already satisfied: matplotlib!=3.6.1,>=3.4 in c:\\users\\meena\\anaconda3\\lib\\site-packages (from seaborn) (3.8.4)\n",
      "Requirement already satisfied: python-dateutil>=2.8.2 in c:\\users\\meena\\anaconda3\\lib\\site-packages (from pandas) (2.9.0.post0)\n",
      "Requirement already satisfied: pytz>=2020.1 in c:\\users\\meena\\anaconda3\\lib\\site-packages (from pandas) (2024.1)\n",
      "Requirement already satisfied: tzdata>=2022.7 in c:\\users\\meena\\anaconda3\\lib\\site-packages (from pandas) (2023.3)\n",
      "Requirement already satisfied: joblib>=1.2.0 in c:\\users\\meena\\anaconda3\\lib\\site-packages (from scikit-learn) (1.4.2)\n",
      "Requirement already satisfied: threadpoolctl>=2.0.0 in c:\\users\\meena\\anaconda3\\lib\\site-packages (from scikit-learn) (2.2.0)\n",
      "Requirement already satisfied: patsy>=0.5.6 in c:\\users\\meena\\anaconda3\\lib\\site-packages (from statsmodels) (0.5.6)\n",
      "Requirement already satisfied: packaging>=21.3 in c:\\users\\meena\\anaconda3\\lib\\site-packages (from statsmodels) (23.2)\n",
      "Requirement already satisfied: contourpy>=1.0.1 in c:\\users\\meena\\anaconda3\\lib\\site-packages (from matplotlib!=3.6.1,>=3.4->seaborn) (1.2.0)\n",
      "Requirement already satisfied: cycler>=0.10 in c:\\users\\meena\\anaconda3\\lib\\site-packages (from matplotlib!=3.6.1,>=3.4->seaborn) (0.11.0)\n",
      "Requirement already satisfied: fonttools>=4.22.0 in c:\\users\\meena\\anaconda3\\lib\\site-packages (from matplotlib!=3.6.1,>=3.4->seaborn) (4.51.0)\n",
      "Requirement already satisfied: kiwisolver>=1.3.1 in c:\\users\\meena\\anaconda3\\lib\\site-packages (from matplotlib!=3.6.1,>=3.4->seaborn) (1.4.4)\n",
      "Requirement already satisfied: pillow>=8 in c:\\users\\meena\\anaconda3\\lib\\site-packages (from matplotlib!=3.6.1,>=3.4->seaborn) (10.3.0)\n",
      "Requirement already satisfied: pyparsing>=2.3.1 in c:\\users\\meena\\anaconda3\\lib\\site-packages (from matplotlib!=3.6.1,>=3.4->seaborn) (3.0.9)\n",
      "Requirement already satisfied: six in c:\\users\\meena\\anaconda3\\lib\\site-packages (from patsy>=0.5.6->statsmodels) (1.16.0)\n",
      "Note: you may need to restart the kernel to use updated packages.\n"
     ]
    }
   ],
   "source": [
    "pip install seaborn pandas numpy scipy scikit-learn statsmodels"
   ]
  },
  {
   "cell_type": "markdown",
   "id": "60a5e959-7fcf-4695-9eb9-db9a8c7f6210",
   "metadata": {},
   "source": [
    "#### Sample Code for Statistical Analysis in Python"
   ]
  },
  {
   "cell_type": "code",
   "execution_count": 7,
   "id": "4d63200d-75db-48e0-9fca-60c54b619a99",
   "metadata": {},
   "outputs": [],
   "source": [
    "import pandas as pd"
   ]
  },
  {
   "cell_type": "code",
   "execution_count": 9,
   "id": "834fafaa-8962-4c12-81e6-45e4c9963326",
   "metadata": {},
   "outputs": [],
   "source": [
    "import scipy.stats as stats\n",
    "import numpy as np\n",
    "import statsmodels.api as sm\n",
    "import seaborn as sns\n",
    "import matplotlib.pyplot as plt"
   ]
  },
  {
   "cell_type": "markdown",
   "id": "176df3b6-f2ca-4a46-ad4c-0b8bfba69313",
   "metadata": {},
   "source": [
    "#### Loading the mental health Dataset"
   ]
  },
  {
   "cell_type": "code",
   "execution_count": 4,
   "id": "371dad33-6187-491b-b045-cf3d7c6c944b",
   "metadata": {},
   "outputs": [],
   "source": [
    "df=pd.read_csv(\"mental_health_and_technology_usage_2024.csv\")"
   ]
  },
  {
   "cell_type": "code",
   "execution_count": 5,
   "id": "a2256ec1-3f0b-49ec-84e8-d4ec74d30314",
   "metadata": {},
   "outputs": [
    {
     "data": {
      "text/html": [
       "<div>\n",
       "<style scoped>\n",
       "    .dataframe tbody tr th:only-of-type {\n",
       "        vertical-align: middle;\n",
       "    }\n",
       "\n",
       "    .dataframe tbody tr th {\n",
       "        vertical-align: top;\n",
       "    }\n",
       "\n",
       "    .dataframe thead th {\n",
       "        text-align: right;\n",
       "    }\n",
       "</style>\n",
       "<table border=\"1\" class=\"dataframe\">\n",
       "  <thead>\n",
       "    <tr style=\"text-align: right;\">\n",
       "      <th></th>\n",
       "      <th>User_ID</th>\n",
       "      <th>Age</th>\n",
       "      <th>Gender</th>\n",
       "      <th>Technology_Usage_Hours</th>\n",
       "      <th>Social_Media_Usage_Hours</th>\n",
       "      <th>Gaming_Hours</th>\n",
       "      <th>Screen_Time_Hours</th>\n",
       "      <th>Mental_Health_Status</th>\n",
       "      <th>Stress_Level</th>\n",
       "      <th>Sleep_Hours</th>\n",
       "      <th>Physical_Activity_Hours</th>\n",
       "      <th>Support_Systems_Access</th>\n",
       "      <th>Work_Environment_Impact</th>\n",
       "      <th>Online_Support_Usage</th>\n",
       "    </tr>\n",
       "  </thead>\n",
       "  <tbody>\n",
       "    <tr>\n",
       "      <th>0</th>\n",
       "      <td>USER-00001</td>\n",
       "      <td>23</td>\n",
       "      <td>Female</td>\n",
       "      <td>6.57</td>\n",
       "      <td>6.00</td>\n",
       "      <td>0.68</td>\n",
       "      <td>12.36</td>\n",
       "      <td>Good</td>\n",
       "      <td>Low</td>\n",
       "      <td>8.01</td>\n",
       "      <td>6.71</td>\n",
       "      <td>No</td>\n",
       "      <td>Negative</td>\n",
       "      <td>Yes</td>\n",
       "    </tr>\n",
       "    <tr>\n",
       "      <th>1</th>\n",
       "      <td>USER-00002</td>\n",
       "      <td>21</td>\n",
       "      <td>Male</td>\n",
       "      <td>3.01</td>\n",
       "      <td>2.57</td>\n",
       "      <td>3.74</td>\n",
       "      <td>7.61</td>\n",
       "      <td>Poor</td>\n",
       "      <td>High</td>\n",
       "      <td>7.28</td>\n",
       "      <td>5.88</td>\n",
       "      <td>Yes</td>\n",
       "      <td>Positive</td>\n",
       "      <td>No</td>\n",
       "    </tr>\n",
       "    <tr>\n",
       "      <th>2</th>\n",
       "      <td>USER-00003</td>\n",
       "      <td>51</td>\n",
       "      <td>Male</td>\n",
       "      <td>3.04</td>\n",
       "      <td>6.14</td>\n",
       "      <td>1.26</td>\n",
       "      <td>3.16</td>\n",
       "      <td>Fair</td>\n",
       "      <td>High</td>\n",
       "      <td>8.04</td>\n",
       "      <td>9.81</td>\n",
       "      <td>No</td>\n",
       "      <td>Negative</td>\n",
       "      <td>No</td>\n",
       "    </tr>\n",
       "    <tr>\n",
       "      <th>3</th>\n",
       "      <td>USER-00004</td>\n",
       "      <td>25</td>\n",
       "      <td>Female</td>\n",
       "      <td>3.84</td>\n",
       "      <td>4.48</td>\n",
       "      <td>2.59</td>\n",
       "      <td>13.08</td>\n",
       "      <td>Excellent</td>\n",
       "      <td>Medium</td>\n",
       "      <td>5.62</td>\n",
       "      <td>5.28</td>\n",
       "      <td>Yes</td>\n",
       "      <td>Negative</td>\n",
       "      <td>Yes</td>\n",
       "    </tr>\n",
       "    <tr>\n",
       "      <th>4</th>\n",
       "      <td>USER-00005</td>\n",
       "      <td>53</td>\n",
       "      <td>Male</td>\n",
       "      <td>1.20</td>\n",
       "      <td>0.56</td>\n",
       "      <td>0.29</td>\n",
       "      <td>12.63</td>\n",
       "      <td>Good</td>\n",
       "      <td>Low</td>\n",
       "      <td>5.55</td>\n",
       "      <td>4.00</td>\n",
       "      <td>No</td>\n",
       "      <td>Positive</td>\n",
       "      <td>Yes</td>\n",
       "    </tr>\n",
       "  </tbody>\n",
       "</table>\n",
       "</div>"
      ],
      "text/plain": [
       "      User_ID  Age  Gender  Technology_Usage_Hours  Social_Media_Usage_Hours  \\\n",
       "0  USER-00001   23  Female                    6.57                      6.00   \n",
       "1  USER-00002   21    Male                    3.01                      2.57   \n",
       "2  USER-00003   51    Male                    3.04                      6.14   \n",
       "3  USER-00004   25  Female                    3.84                      4.48   \n",
       "4  USER-00005   53    Male                    1.20                      0.56   \n",
       "\n",
       "   Gaming_Hours  Screen_Time_Hours Mental_Health_Status Stress_Level  \\\n",
       "0          0.68              12.36                 Good          Low   \n",
       "1          3.74               7.61                 Poor         High   \n",
       "2          1.26               3.16                 Fair         High   \n",
       "3          2.59              13.08            Excellent       Medium   \n",
       "4          0.29              12.63                 Good          Low   \n",
       "\n",
       "   Sleep_Hours  Physical_Activity_Hours Support_Systems_Access  \\\n",
       "0         8.01                     6.71                     No   \n",
       "1         7.28                     5.88                    Yes   \n",
       "2         8.04                     9.81                     No   \n",
       "3         5.62                     5.28                    Yes   \n",
       "4         5.55                     4.00                     No   \n",
       "\n",
       "  Work_Environment_Impact Online_Support_Usage  \n",
       "0                Negative                  Yes  \n",
       "1                Positive                   No  \n",
       "2                Negative                   No  \n",
       "3                Negative                  Yes  \n",
       "4                Positive                  Yes  "
      ]
     },
     "execution_count": 5,
     "metadata": {},
     "output_type": "execute_result"
    }
   ],
   "source": [
    "df.head()"
   ]
  },
  {
   "cell_type": "markdown",
   "id": "0ffbe67d-f0d8-44c8-b31d-4c87e27c7665",
   "metadata": {},
   "source": [
    "#### Performing Descriptive Statistics"
   ]
  },
  {
   "cell_type": "code",
   "execution_count": 6,
   "id": "3ec0cb7c-9c59-4bb3-8060-0e3e5dab0ee7",
   "metadata": {},
   "outputs": [
    {
     "name": "stdout",
     "output_type": "stream",
     "text": [
      "Mean:\n",
      " Age                         41.518600\n",
      "Technology_Usage_Hours       6.474341\n",
      "Social_Media_Usage_Hours     3.972321\n",
      "Gaming_Hours                 2.515598\n",
      "Screen_Time_Hours            7.975765\n",
      "Sleep_Hours                  6.500724\n",
      "Physical_Activity_Hours      5.003860\n",
      "dtype: float64\n",
      "\n",
      "Median:\n",
      " Age                         42.000\n",
      "Technology_Usage_Hours       6.425\n",
      "Social_Media_Usage_Hours     3.950\n",
      "Gaming_Hours                 2.520\n",
      "Screen_Time_Hours            7.900\n",
      "Sleep_Hours                  6.500\n",
      "Physical_Activity_Hours      4.990\n",
      "dtype: float64\n",
      "\n",
      "Standard Deviation:\n",
      " Age                         13.920217\n",
      "Technology_Usage_Hours       3.169022\n",
      "Social_Media_Usage_Hours     2.313707\n",
      "Gaming_Hours                 1.446748\n",
      "Screen_Time_Hours            4.042608\n",
      "Sleep_Hours                  1.450933\n",
      "Physical_Activity_Hours      2.905044\n",
      "dtype: float64\n",
      "\n",
      "Variance:\n",
      " Age                         193.772431\n",
      "Technology_Usage_Hours       10.042703\n",
      "Social_Media_Usage_Hours      5.353238\n",
      "Gaming_Hours                  2.093081\n",
      "Screen_Time_Hours            16.342677\n",
      "Sleep_Hours                   2.105207\n",
      "Physical_Activity_Hours       8.439280\n",
      "dtype: float64\n",
      "\n",
      "Min:\n",
      " Age                         18.0\n",
      "Technology_Usage_Hours       1.0\n",
      "Social_Media_Usage_Hours     0.0\n",
      "Gaming_Hours                 0.0\n",
      "Screen_Time_Hours            1.0\n",
      "Sleep_Hours                  4.0\n",
      "Physical_Activity_Hours      0.0\n",
      "dtype: float64\n",
      "\n",
      "Max:\n",
      " Age                         65.0\n",
      "Technology_Usage_Hours      12.0\n",
      "Social_Media_Usage_Hours     8.0\n",
      "Gaming_Hours                 5.0\n",
      "Screen_Time_Hours           15.0\n",
      "Sleep_Hours                  9.0\n",
      "Physical_Activity_Hours     10.0\n",
      "dtype: float64\n",
      "\n",
      "Mode:\n",
      " Age                         62.00\n",
      "Technology_Usage_Hours       2.88\n",
      "Social_Media_Usage_Hours     1.28\n",
      "Gaming_Hours                 2.46\n",
      "Screen_Time_Hours           11.78\n",
      "Sleep_Hours                  6.67\n",
      "Physical_Activity_Hours      4.05\n",
      "Name: 0, dtype: float64\n"
     ]
    }
   ],
   "source": [
    "# Calculate mean for numeric columns only\n",
    "numeric_df = df.select_dtypes(include=['number'])\n",
    "print(\"Mean:\\n\", numeric_df.mean())\n",
    "print(\"\\nMedian:\\n\", numeric_df.median())\n",
    "print(\"\\nStandard Deviation:\\n\", numeric_df.std())\n",
    "print(\"\\nVariance:\\n\",numeric_df.var())\n",
    "print(\"\\nMin:\\n\", numeric_df.min())\n",
    "print(\"\\nMax:\\n\", numeric_df.max())\n",
    "print(\"\\nMode:\\n\",numeric_df.mode().iloc[0])"
   ]
  },
  {
   "cell_type": "code",
   "execution_count": 7,
   "id": "c08616e4-ac67-4420-8844-a015a7246529",
   "metadata": {},
   "outputs": [
    {
     "name": "stdout",
     "output_type": "stream",
     "text": [
      "\n",
      "Range:\n",
      " Age                         47.0\n",
      "Technology_Usage_Hours      11.0\n",
      "Social_Media_Usage_Hours     8.0\n",
      "Gaming_Hours                 5.0\n",
      "Screen_Time_Hours           14.0\n",
      "Sleep_Hours                  5.0\n",
      "Physical_Activity_Hours     10.0\n",
      "dtype: float64\n",
      "\n",
      "Skewness:\n",
      " Age                         0.005154\n",
      "Technology_Usage_Hours      0.018047\n",
      "Social_Media_Usage_Hours    0.010760\n",
      "Gaming_Hours               -0.023540\n",
      "Screen_Time_Hours           0.015484\n",
      "Sleep_Hours                 0.004033\n",
      "Physical_Activity_Hours     0.000612\n",
      "dtype: float64\n",
      "\n",
      "Kurtosis:\n",
      " Age                        -1.208393\n",
      "Technology_Usage_Hours     -1.190780\n",
      "Social_Media_Usage_Hours   -1.211233\n",
      "Gaming_Hours               -1.205375\n",
      "Screen_Time_Hours          -1.194322\n",
      "Sleep_Hours                -1.212284\n",
      "Physical_Activity_Hours    -1.211133\n",
      "dtype: float64\n"
     ]
    }
   ],
   "source": [
    "# Additional descriptive statistics\n",
    "print(\"\\nRange:\\n\", numeric_df.max() - numeric_df.min())\n",
    "print(\"\\nSkewness:\\n\", numeric_df.skew())\n",
    "print(\"\\nKurtosis:\\n\", numeric_df.kurt())"
   ]
  },
  {
   "cell_type": "code",
   "execution_count": 8,
   "id": "3ad84b70-1afd-42c1-ba00-728abf5ce5c3",
   "metadata": {},
   "outputs": [
    {
     "name": "stdout",
     "output_type": "stream",
     "text": [
      "Available columns: Index(['User_ID', 'Age', 'Gender', 'Technology_Usage_Hours',\n",
      "       'Social_Media_Usage_Hours', 'Gaming_Hours', 'Screen_Time_Hours',\n",
      "       'Mental_Health_Status', 'Stress_Level', 'Sleep_Hours',\n",
      "       'Physical_Activity_Hours', 'Support_Systems_Access',\n",
      "       'Work_Environment_Impact', 'Online_Support_Usage'],\n",
      "      dtype='object')\n",
      "Data types:\n",
      " User_ID                      object\n",
      "Age                           int64\n",
      "Gender                       object\n",
      "Technology_Usage_Hours      float64\n",
      "Social_Media_Usage_Hours    float64\n",
      "Gaming_Hours                float64\n",
      "Screen_Time_Hours           float64\n",
      "Mental_Health_Status         object\n",
      "Stress_Level                 object\n",
      "Sleep_Hours                 float64\n",
      "Physical_Activity_Hours     float64\n",
      "Support_Systems_Access       object\n",
      "Work_Environment_Impact      object\n",
      "Online_Support_Usage         object\n",
      "dtype: object\n",
      "      User_ID  Age  Gender  Technology_Usage_Hours  Social_Media_Usage_Hours  \\\n",
      "0  USER-00001   23  Female                    6.57                      6.00   \n",
      "1  USER-00002   21    Male                    3.01                      2.57   \n",
      "2  USER-00003   51    Male                    3.04                      6.14   \n",
      "3  USER-00004   25  Female                    3.84                      4.48   \n",
      "4  USER-00005   53    Male                    1.20                      0.56   \n",
      "\n",
      "   Gaming_Hours  Screen_Time_Hours Mental_Health_Status Stress_Level  \\\n",
      "0          0.68              12.36                 Good          Low   \n",
      "1          3.74               7.61                 Poor         High   \n",
      "2          1.26               3.16                 Fair         High   \n",
      "3          2.59              13.08            Excellent       Medium   \n",
      "4          0.29              12.63                 Good          Low   \n",
      "\n",
      "   Sleep_Hours  Physical_Activity_Hours Support_Systems_Access  \\\n",
      "0         8.01                     6.71                     No   \n",
      "1         7.28                     5.88                    Yes   \n",
      "2         8.04                     9.81                     No   \n",
      "3         5.62                     5.28                    Yes   \n",
      "4         5.55                     4.00                     No   \n",
      "\n",
      "  Work_Environment_Impact Online_Support_Usage  \n",
      "0                Negative                  Yes  \n",
      "1                Positive                   No  \n",
      "2                Negative                   No  \n",
      "3                Negative                  Yes  \n",
      "4                Positive                  Yes  \n",
      "Column 'Score_Before' does not exist.\n"
     ]
    }
   ],
   "source": [
    "# Strip any extra spaces from column names\n",
    "df.columns = df.columns.str.strip()\n",
    "# Check available columns and their data types\n",
    "print(\"Available columns:\", df.columns)\n",
    "print(\"Data types:\\n\", df.dtypes)\n",
    "# Check the first few rows\n",
    "print(df.head())\n",
    "\n",
    "# Safe column access\n",
    "column_name = 'Score_Before'  # Replace with your column name\n",
    "\n",
    "if column_name in df.columns:\n",
    "    print(df[column_name])\n",
    "else:\n",
    "    print(f\"Column '{column_name}' does not exist.\")"
   ]
  },
  {
   "cell_type": "code",
   "execution_count": 9,
   "id": "3afe251d-4540-4385-8a90-b4d748a4104a",
   "metadata": {},
   "outputs": [
    {
     "name": "stdout",
     "output_type": "stream",
     "text": [
      "Available columns: Index(['User_ID', 'Age', 'Gender', 'Technology_Usage_Hours',\n",
      "       'Social_Media_Usage_Hours', 'Gaming_Hours', 'Screen_Time_Hours',\n",
      "       'Mental_Health_Status', 'Stress_Level', 'Sleep_Hours',\n",
      "       'Physical_Activity_Hours', 'Support_Systems_Access',\n",
      "       'Work_Environment_Impact', 'Online_Support_Usage'],\n",
      "      dtype='object')\n"
     ]
    }
   ],
   "source": [
    "print(\"Available columns:\", df.columns)"
   ]
  },
  {
   "cell_type": "markdown",
   "id": "714e44e9-db82-44ea-8b50-2acac17385b9",
   "metadata": {},
   "source": [
    "##### Performing Inferential Statistics"
   ]
  },
  {
   "cell_type": "code",
   "execution_count": 10,
   "id": "8406d821-85f1-412b-8530-b885d02a3826",
   "metadata": {},
   "outputs": [
    {
     "name": "stdout",
     "output_type": "stream",
     "text": [
      "Independent T-test:\n",
      "T-statistic: nan, p-value: nan\n"
     ]
    }
   ],
   "source": [
    "from scipy import stats\n",
    "\n",
    "# Example column names (replace with actual names from your dataset)\n",
    "# Assume 'Tech_Use' is categorical ('Yes'/'No') and 'Mental_Health_Score' is numerical\n",
    "tech_use_yes = df[df['Technology_Usage_Hours'] == 'Yes']['Mental_Health_Status']\n",
    "tech_use_no = df[df['Technology_Usage_Hours'] == 'No']['Mental_Health_Status']\n",
    "\n",
    "# Perform independent t-test\n",
    "t_stat_ind, p_value_ind = stats.ttest_ind(tech_use_yes, tech_use_no, nan_policy='omit')\n",
    "print(f\"Independent T-test:\\nT-statistic: {t_stat_ind}, p-value: {p_value_ind}\")\n"
   ]
  },
  {
   "cell_type": "markdown",
   "id": "17161347-afdf-4e12-9cac-b59aa281be96",
   "metadata": {},
   "source": [
    "##### Confidence Intervals"
   ]
  },
  {
   "cell_type": "code",
   "execution_count": 11,
   "id": "1f60304d-93c7-4e2f-bdf1-0398cb7a1f4b",
   "metadata": {},
   "outputs": [
    {
     "name": "stdout",
     "output_type": "stream",
     "text": [
      "Confidence Interval for Age: (41.24573573753896, 41.79146426246104)\n",
      "Confidence Interval for Technology_Usage_Hours: (6.4122217826718275, 6.536460217328172)\n",
      "Confidence Interval for Social_Media_Usage_Hours: (3.9269676931603876, 4.017674306839612)\n",
      "Confidence Interval for Gaming_Hours: (2.487238817701077, 2.5439571822989224)\n",
      "Confidence Interval for Screen_Time_Hours: (7.896521752038481, 8.055008247961517)\n",
      "Confidence Interval for Sleep_Hours: (6.472282790392075, 6.529165209607923)\n",
      "Confidence Interval for Physical_Activity_Hours: (4.946915292535763, 5.0608047074642375)\n"
     ]
    }
   ],
   "source": [
    "\n",
    "def confidence_interval(data, confidence=0.95):\n",
    "    \"\"\"Compute the confidence interval for the mean of the data.\"\"\"\n",
    "    n = len(data)\n",
    "    mean = np.mean(data)\n",
    "    sem = stats.sem(data, nan_policy='omit')  # Standard Error of Mean\n",
    "    h = sem * stats.t.ppf((1 + confidence) / 2., n - 1)  # Margin of Error\n",
    "    return mean - h, mean + h\n",
    "\n",
    "# Identify numerical columns\n",
    "numerical_columns = df.select_dtypes(include=[np.number]).columns\n",
    "\n",
    "# Dictionary to hold confidence intervals for each numerical column\n",
    "ci_dict = {}\n",
    "\n",
    "# Calculate confidence intervals for each numerical column\n",
    "for column in numerical_columns:\n",
    "    ci = confidence_interval(df[column])\n",
    "    ci_dict[column] = ci\n",
    "\n",
    "# Print the confidence intervals\n",
    "for column, ci in ci_dict.items():\n",
    "    print(f\"Confidence Interval for {column}: {ci}\")"
   ]
  },
  {
   "cell_type": "markdown",
   "id": "e1c0e022-8a84-409d-b574-dcdde282b5ca",
   "metadata": {},
   "source": [
    "##### Regression Analysis"
   ]
  },
  {
   "cell_type": "code",
   "execution_count": 20,
   "id": "11762393-dd0e-43b1-899d-3f027e90f165",
   "metadata": {},
   "outputs": [
    {
     "name": "stdout",
     "output_type": "stream",
     "text": [
      "                            OLS Regression Results                            \n",
      "==============================================================================\n",
      "Dep. Variable:            Sleep_Hours   R-squared:                       0.000\n",
      "Model:                            OLS   Adj. R-squared:                  0.000\n",
      "Method:                 Least Squares   F-statistic:                     1.080\n",
      "Date:                Thu, 12 Sep 2024   Prob (F-statistic):              0.299\n",
      "Time:                        10:31:44   Log-Likelihood:                -17910.\n",
      "No. Observations:               10000   AIC:                         3.582e+04\n",
      "Df Residuals:                    9998   BIC:                         3.584e+04\n",
      "Df Model:                           1                                         \n",
      "Covariance Type:            nonrobust                                         \n",
      "================================================================================\n",
      "                   coef    std err          t      P>|t|      [0.025      0.975]\n",
      "--------------------------------------------------------------------------------\n",
      "const            6.4745      0.029    222.458      0.000       6.417       6.532\n",
      "Gaming_Hours     0.0104      0.010      1.039      0.299      -0.009       0.030\n",
      "==============================================================================\n",
      "Omnibus:                     9757.153   Durbin-Watson:                   1.973\n",
      "Prob(Omnibus):                  0.000   Jarque-Bera (JB):              612.235\n",
      "Skew:                           0.004   Prob(JB):                    1.13e-133\n",
      "Kurtosis:                       1.788   Cond. No.                         6.35\n",
      "==============================================================================\n",
      "\n",
      "Notes:\n",
      "[1] Standard Errors assume that the covariance matrix of the errors is correctly specified.\n"
     ]
    }
   ],
   "source": [
    "import statsmodels.api as sm\n",
    "#df['Gaming_Hours']=np.asarray(df['Gaming_Hours'])#df['Mental_Health_Status']=np.asarray(df['Mental_Health_Status'])\n",
    "# Define independent variable (add constant for intercept)\n",
    "X=df['Gaming_Hours']\n",
    "X = sm.add_constant(X)\n",
    "\n",
    "# Define dependent variable\n",
    "y = df['Sleep_Hours']\n",
    "\n",
    "# Fit linear regression model\n",
    "model = sm.OLS(y, X).fit()\n",
    "\n",
    "# Print model summary\n",
    "print(model.summary())"
   ]
  },
  {
   "cell_type": "markdown",
   "id": "324a1892-d18c-4498-9c7d-e6b33d64a410",
   "metadata": {},
   "source": [
    "##### Visualizing the results:"
   ]
  },
  {
   "cell_type": "code",
   "execution_count": 23,
   "id": "4ea69aa4-70be-46af-8be8-02b494123dbb",
   "metadata": {},
   "outputs": [
    {
     "data": {
      "image/png": "[encoded data removed]",
      "text/plain": [
       "<Figure size 1000x600 with 1 Axes>"
      ]
     },
     "metadata": {},
     "output_type": "display_data"
    }
   ],
   "source": [
    "import matplotlib.pyplot as plt\n",
    "import seaborn as sns\n",
    "# Plot data and regression line\n",
    "df2=df.head(100)\n",
    "plt.figure(figsize=(10, 6))\n",
    "sns.scatterplot(x='Gaming_Hours', y='Sleep_Hours', data=df2, alpha=0.7)\n",
    "sns.regplot(x='Gaming_Hours', y='Sleep_Hours', data=df2, scatter=False, color='red')\n",
    "\n",
    "# Add labels and title\n",
    "plt.xlabel('Gaming_HourGaming_Hours')\n",
    "plt.ylabel('Sleep_Hours')\n",
    "plt.title('Gaming_Hours vs Sleep_Hours with Regression Line')\n",
    "\n",
    "# Show plot\n",
    "plt.grid(True)\n",
    "plt.show()"
   ]
  },
  {
   "cell_type": "code",
   "execution_count": null,
   "id": "df709018-3943-494d-82c0-fd37c9018a06",
   "metadata": {},
   "outputs": [],
   "source": []
  }
 ],
 "metadata": {
  "kernelspec": {
   "display_name": "Python 3 (ipykernel)",
   "language": "python",
   "name": "python3"
  },
  "language_info": {
   "codemirror_mode": {
    "name": "ipython",
    "version": 3
   },
   "file_extension": ".py",
   "mimetype": "text/x-python",
   "name": "python",
   "nbconvert_exporter": "python",
   "pygments_lexer": "ipython3",
   "version": "3.12.4"
  }
 },
 "nbformat": 4,
 "nbformat_minor": 5
}
